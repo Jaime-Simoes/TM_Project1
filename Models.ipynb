{
 "cells": [
  {
   "cell_type": "code",
   "execution_count": 49,
   "id": "c8bc2919-f1e4-426f-9054-26e621901612",
   "metadata": {},
   "outputs": [],
   "source": [
    "import numpy as np\n",
    "from sklearn.linear_model import LogisticRegression\n",
    "from sklearn.naive_bayes import GaussianNB\n",
    "from sklearn.metrics import classification_report\n",
    "from sklearn.metrics import confusion_matrix, f1_score\n",
    "from sklearn.model_selection import cross_val_score\n",
    "from sklearn.neighbors import KNeighborsClassifier"
   ]
  },
  {
   "cell_type": "code",
   "execution_count": 2,
   "id": "d78330c1-61d9-4f7e-b378-bdd1801e9593",
   "metadata": {},
   "outputs": [],
   "source": [
    "## Classification Models (4th / 5th steps guidelines):"
   ]
  },
  {
   "cell_type": "code",
   "execution_count": 3,
   "id": "237df5c3-c6af-401e-9a9e-9b4e3876c920",
   "metadata": {},
   "outputs": [],
   "source": [
    "data = np.load(\"combined_representations.npz\", allow_pickle=True)\n",
    "X_train_combined = data[\"X_train\"]\n",
    "X_val_combined = data[\"X_val\"]\n",
    "test_combined = data[\"test\"]\n",
    "y_train = data[\"y_train\"]\n",
    "y_val = data[\"y_val\"]"
   ]
  },
  {
   "cell_type": "code",
   "execution_count": 4,
   "id": "5686cd31-0d17-4786-9d2f-b837de19c505",
   "metadata": {
    "scrolled": true
   },
   "outputs": [
    {
     "data": {
      "text/plain": [
       "array({'description': array([[ 0.        ,  0.        ,  0.        , ..., -0.08468467,\n",
       "         0.16710296,  0.057366  ],\n",
       "       [ 0.        ,  0.        ,  0.        , ..., -0.01306781,\n",
       "         0.13182336,  0.0041255 ],\n",
       "       [ 0.        ,  0.        ,  0.        , ..., -0.13805758,\n",
       "         0.24629688, -0.0862156 ],\n",
       "       ...,\n",
       "       [ 0.        ,  0.        ,  0.        , ..., -0.13059046,\n",
       "         0.33800852,  0.01264326],\n",
       "       [ 0.        ,  0.        ,  0.        , ..., -0.04177414,\n",
       "         0.33193919,  0.06621849],\n",
       "       [ 0.        ,  0.        ,  0.        , ..., -0.08864344,\n",
       "         0.25635894,  0.10819403]]), 'host_about': array([[ 0.        ,  0.        ,  0.        , ..., -0.04349438,\n",
       "        -0.01102248, -0.00268946],\n",
       "       [ 0.        ,  0.        ,  0.        , ..., -0.07374551,\n",
       "         0.27137006,  0.1386768 ],\n",
       "       [ 0.        ,  0.08407949,  0.08587857, ..., -0.03365872,\n",
       "         0.21961312,  0.08438464],\n",
       "       ...,\n",
       "       [ 0.        ,  0.        ,  0.        , ..., -0.1946847 ,\n",
       "         0.15675862,  0.18346868],\n",
       "       [ 0.        ,  0.        ,  0.        , ..., -0.20601346,\n",
       "         0.23005761,  0.04385732],\n",
       "       [ 0.        ,  0.        ,  0.        , ..., -0.17294988,\n",
       "         0.2813098 ,  0.13600118]]), 'comments': array([[ 0.00427015,  0.        ,  0.00483969, ..., -0.09409464,\n",
       "         0.22513477,  0.11371527],\n",
       "       [ 0.0635874 ,  0.        ,  0.07206861, ..., -0.002565  ,\n",
       "         0.20820763,  0.01734475],\n",
       "       [ 0.        ,  0.        ,  0.        , ...,  0.        ,\n",
       "         0.        ,  0.        ],\n",
       "       ...,\n",
       "       [ 0.        ,  0.        ,  0.        , ...,  0.        ,\n",
       "         0.        ,  0.        ],\n",
       "       [ 0.00713335,  0.        ,  0.        , ..., -0.13487608,\n",
       "         0.1339764 ,  0.1918412 ],\n",
       "       [ 0.14157702,  0.03877514,  0.0401151 , ..., -0.02844723,\n",
       "         0.32519731,  0.01732454]])}, dtype=object)"
      ]
     },
     "execution_count": 4,
     "metadata": {},
     "output_type": "execute_result"
    }
   ],
   "source": [
    "test_combined"
   ]
  },
  {
   "cell_type": "code",
   "execution_count": 5,
   "id": "5c57e753-24e6-4c7f-9c71-7e3fb930126a",
   "metadata": {
    "scrolled": true
   },
   "outputs": [
    {
     "data": {
      "text/plain": [
       "array({'description': array([[ 0.        ,  0.        ,  0.        , ..., -0.17752816,\n",
       "         0.33020436,  0.11092447],\n",
       "       [ 0.        ,  0.        ,  0.        , ..., -0.01434965,\n",
       "         0.39485991,  0.04780014],\n",
       "       [ 0.        ,  0.        ,  0.        , ..., -0.07215451,\n",
       "         0.19116122,  0.10603562],\n",
       "       ...,\n",
       "       [ 0.        ,  0.        ,  0.        , ..., -0.12204272,\n",
       "         0.00810044,  0.0257803 ],\n",
       "       [ 0.        ,  0.        ,  0.        , ..., -0.15537582,\n",
       "         0.30471598,  0.19891339],\n",
       "       [ 0.        ,  0.        ,  0.        , ..., -0.01584726,\n",
       "         0.248952  ,  0.10495016]]), 'host_about': array([[ 0.        ,  0.        ,  0.        , ..., -0.13266554,\n",
       "         0.21048408,  0.06905448],\n",
       "       [ 0.        ,  0.        ,  0.        , ..., -0.07712197,\n",
       "         0.24841082,  0.07409752],\n",
       "       [ 0.        ,  0.        ,  0.        , ..., -0.19376324,\n",
       "         0.16052756,  0.18207438],\n",
       "       ...,\n",
       "       [ 0.        ,  0.        ,  0.        , ..., -0.0065152 ,\n",
       "         0.0102364 ,  0.0006557 ],\n",
       "       [ 0.        ,  0.        ,  0.        , ..., -0.04803084,\n",
       "         0.04464794,  0.0955646 ],\n",
       "       [ 0.        ,  0.        ,  0.        , ...,  0.03264376,\n",
       "         0.10649814, -0.0158661 ]]), 'comments': array([[ 0.00285803,  0.0048129 ,  0.00168191, ..., -0.10638714,\n",
       "         0.1157219 ,  0.01919548],\n",
       "       [ 0.        ,  0.        ,  0.        , ...,  0.        ,\n",
       "         0.        ,  0.        ],\n",
       "       [ 0.        ,  0.        ,  0.        , ..., -0.10787476,\n",
       "         0.22766156,  0.10906438],\n",
       "       ...,\n",
       "       [ 0.        ,  0.        ,  0.        , ...,  0.        ,\n",
       "         0.        ,  0.        ],\n",
       "       [ 0.        ,  0.        ,  0.        , ..., -0.18393014,\n",
       "         0.14378067,  0.18188318],\n",
       "       [ 0.02144933,  0.00523485,  0.00768334, ..., -0.14759525,\n",
       "         0.21525526,  0.16833386]])}, dtype=object)"
      ]
     },
     "execution_count": 5,
     "metadata": {},
     "output_type": "execute_result"
    }
   ],
   "source": [
    "X_val_combined"
   ]
  },
  {
   "cell_type": "code",
   "execution_count": 6,
   "id": "4637502c-e231-4774-8993-fd4c8191e286",
   "metadata": {
    "scrolled": true
   },
   "outputs": [
    {
     "data": {
      "text/plain": [
       "array({'description': array([[ 0.        ,  0.        ,  0.        , ..., -0.1268446 ,\n",
       "         0.19595661, -0.0083481 ],\n",
       "       [ 0.        ,  0.        ,  0.        , ..., -0.04427454,\n",
       "        -0.0050476 , -0.03812569],\n",
       "       [ 0.        ,  0.        ,  0.        , ..., -0.0455008 ,\n",
       "         0.21400927,  0.0660574 ],\n",
       "       ...,\n",
       "       [ 0.        ,  0.        ,  0.        , ..., -0.03801016,\n",
       "         0.34924866,  0.05680282],\n",
       "       [ 0.        ,  0.        ,  0.        , ..., -0.13847188,\n",
       "         0.24170396,  0.12646742],\n",
       "       [ 0.        ,  0.        ,  0.        , ..., -0.01582526,\n",
       "         0.24599232,  0.05336657]]), 'host_about': array([[ 0.        ,  0.        ,  0.        , ..., -0.06807236,\n",
       "        -0.0216408 ,  0.01123832],\n",
       "       [ 0.        ,  0.        ,  0.        , ...,  0.018232  ,\n",
       "         0.03550534, -0.0068904 ],\n",
       "       [ 0.        ,  0.        ,  0.        , ..., -0.17294988,\n",
       "         0.2813098 ,  0.13600118],\n",
       "       ...,\n",
       "       [ 0.        ,  0.        ,  0.        , ..., -0.18166426,\n",
       "         0.26868474,  0.14911759],\n",
       "       [ 0.1012124 ,  0.        ,  0.        , ..., -0.03365872,\n",
       "         0.21961312,  0.08438464],\n",
       "       [ 0.        ,  0.        ,  0.        , ..., -0.16558926,\n",
       "         0.27391624,  0.1944242 ]]), 'comments': array([[ 0.02946376,  0.        ,  0.        , ..., -0.11605344,\n",
       "         0.30263128,  0.08693588],\n",
       "       [ 0.        ,  0.        ,  0.        , ...,  0.        ,\n",
       "         0.        ,  0.        ],\n",
       "       [ 0.        ,  0.        ,  0.        , ..., -0.16969809,\n",
       "         0.36101518,  0.14888891],\n",
       "       ...,\n",
       "       [ 0.00516077,  0.00294683,  0.00299209, ..., -0.16252409,\n",
       "         0.27819405,  0.20788686],\n",
       "       [ 0.04080732,  0.        ,  0.        , ..., -0.01129192,\n",
       "         0.12156244,  0.0447562 ],\n",
       "       [ 0.        ,  0.        ,  0.        , ..., -0.06495108,\n",
       "         0.37064032,  0.16123983]])}, dtype=object)"
      ]
     },
     "execution_count": 6,
     "metadata": {},
     "output_type": "execute_result"
    }
   ],
   "source": [
    "X_train_combined"
   ]
  },
  {
   "cell_type": "code",
   "execution_count": 7,
   "id": "6a8c433e-8492-43b8-85f2-44b34b39519b",
   "metadata": {},
   "outputs": [
    {
     "data": {
      "text/plain": [
       "(1562,)"
      ]
     },
     "execution_count": 7,
     "metadata": {},
     "output_type": "execute_result"
    }
   ],
   "source": [
    "y_val.shape"
   ]
  },
  {
   "cell_type": "code",
   "execution_count": 8,
   "id": "40a07d76-e702-454b-b643-1560e7109963",
   "metadata": {},
   "outputs": [
    {
     "data": {
      "text/plain": [
       "(4686,)"
      ]
     },
     "execution_count": 8,
     "metadata": {},
     "output_type": "execute_result"
    }
   ],
   "source": [
    "y_train.shape"
   ]
  },
  {
   "cell_type": "markdown",
   "id": "4512ba27-bdf7-4f69-b05b-f08380e4b533",
   "metadata": {},
   "source": [
    "### Preparing data for the models"
   ]
  },
  {
   "cell_type": "code",
   "execution_count": 28,
   "id": "58f9eca1-d8b2-4b2d-80c5-c99b2e62e658",
   "metadata": {},
   "outputs": [
    {
     "name": "stdout",
     "output_type": "stream",
     "text": [
      "Shape of merged feature matrix: (4686, 1800)\n"
     ]
    }
   ],
   "source": [
    "# For X_train_combined\n",
    "\n",
    "train_dict = X_train_combined.item()\n",
    "\n",
    "description_features_train = train_dict['description']\n",
    "host_about_features_train = train_dict['host_about']\n",
    "comments_features_train = train_dict['comments']\n",
    "\n",
    "X_train_merged = np.concatenate((description_features_train, host_about_features_train, comments_features_train), axis=1)\n",
    "print(\"Shape of merged feature matrix:\", X_train_merged.shape)"
   ]
  },
  {
   "cell_type": "code",
   "execution_count": 29,
   "id": "4c769012-d604-48d1-b852-1edec788bdef",
   "metadata": {},
   "outputs": [
    {
     "name": "stdout",
     "output_type": "stream",
     "text": [
      "Shape of merged feature matrix: (1562, 1800)\n"
     ]
    }
   ],
   "source": [
    "# For X_val_combined\n",
    "\n",
    "val_dict = X_val_combined.item()\n",
    "\n",
    "description_features_val = val_dict['description']\n",
    "host_about_features_val = val_dict['host_about']\n",
    "comments_features_val = val_dict['comments']\n",
    "\n",
    "X_val_merged = np.concatenate((description_features_val, host_about_features_val, comments_features_val), axis=1)\n",
    "print(\"Shape of merged feature matrix:\", X_val_merged.shape)"
   ]
  },
  {
   "cell_type": "code",
   "execution_count": 30,
   "id": "56bfb901-e737-4717-9883-9c742c0c1892",
   "metadata": {},
   "outputs": [
    {
     "name": "stdout",
     "output_type": "stream",
     "text": [
      "Shape of merged feature matrix: (695, 1800)\n"
     ]
    }
   ],
   "source": [
    "# For test_combined\n",
    "\n",
    "test_dict = test_combined.item()\n",
    "\n",
    "description_features_test = test_dict['description']\n",
    "host_about_features_test = test_dict['host_about']\n",
    "comments_features_test = test_dict['comments']\n",
    "\n",
    "X_test_merged = np.concatenate((description_features_test, host_about_features_test, comments_features_test), axis=1)\n",
    "print(\"Shape of merged feature matrix:\", X_test_merged.shape)"
   ]
  },
  {
   "cell_type": "markdown",
   "id": "91bb14b7-15ab-434d-9cf2-be878fa46060",
   "metadata": {},
   "source": [
    "# Models"
   ]
  },
  {
   "cell_type": "markdown",
   "id": "cdf433c9-1de5-4acb-8bb0-c42da7714461",
   "metadata": {},
   "source": [
    "### Logistic Regression"
   ]
  },
  {
   "cell_type": "code",
   "execution_count": 48,
   "id": "6f39e3d2-4ea9-40ec-bade-29d7cdd22a34",
   "metadata": {},
   "outputs": [
    {
     "name": "stdout",
     "output_type": "stream",
     "text": [
      "              precision    recall  f1-score   support\n",
      "\n",
      "           0       0.90      0.86      0.88      1135\n",
      "           1       0.66      0.76      0.71       427\n",
      "\n",
      "    accuracy                           0.83      1562\n",
      "   macro avg       0.78      0.81      0.79      1562\n",
      "weighted avg       0.84      0.83      0.83      1562\n",
      "\n",
      "Confusion Matrix:\n",
      "[[971 164]\n",
      " [103 324]]\n",
      "F1 score on validation set: 0.8324030027318112\n"
     ]
    },
    {
     "name": "stderr",
     "output_type": "stream",
     "text": [
      "C:\\Users\\jaime\\anaconda3\\Lib\\site-packages\\sklearn\\linear_model\\_logistic.py:458: ConvergenceWarning: lbfgs failed to converge (status=1):\n",
      "STOP: TOTAL NO. of ITERATIONS REACHED LIMIT.\n",
      "\n",
      "Increase the number of iterations (max_iter) or scale the data as shown in:\n",
      "    https://scikit-learn.org/stable/modules/preprocessing.html\n",
      "Please also refer to the documentation for alternative solver options:\n",
      "    https://scikit-learn.org/stable/modules/linear_model.html#logistic-regression\n",
      "  n_iter_i = _check_optimize_result(\n"
     ]
    }
   ],
   "source": [
    "# Initialize logistic\n",
    "lr = LogisticRegression(random_state=0)\n",
    "\n",
    "# Train the model\n",
    "lr.fit(X_train_merged, y_train)\n",
    "\n",
    "# Predictions\n",
    "lr_pred = lr.predict(X_val_merged)\n",
    "\n",
    "print(classification_report(y_val, lr_pred))\n",
    "print(\"Confusion Matrix:\")\n",
    "print(confusion_matrix(y_val, lr_pred))\n",
    "\n",
    "f1 = f1_score(y_val, lr_pred, average='weighted')\n",
    "print(\"F1 score on validation set:\", f1)"
   ]
  },
  {
   "cell_type": "markdown",
   "id": "74dd226f-9b73-41bd-a448-1a0963513e5c",
   "metadata": {},
   "source": [
    "### K Nearest Neighbors"
   ]
  },
  {
   "cell_type": "code",
   "execution_count": 51,
   "id": "d8347d49-0637-497b-ba3c-5abba3612964",
   "metadata": {},
   "outputs": [
    {
     "name": "stdout",
     "output_type": "stream",
     "text": [
      "              precision    recall  f1-score   support\n",
      "\n",
      "           0       0.88      0.80      0.84      1135\n",
      "           1       0.57      0.71      0.64       427\n",
      "\n",
      "    accuracy                           0.78      1562\n",
      "   macro avg       0.73      0.76      0.74      1562\n",
      "weighted avg       0.80      0.78      0.78      1562\n",
      "\n",
      "Confusion Matrix:\n",
      "[[909 226]\n",
      " [122 305]]\n",
      "F1 score on validation set: 0.7839531255961923\n"
     ]
    }
   ],
   "source": [
    "knn = KNeighborsClassifier()\n",
    "\n",
    "# Fit the KNN model on the entire training dataset\n",
    "knn.fit(X_train_merged, y_train)\n",
    "\n",
    "# Predict on the validation set\n",
    "knn_pred = knn.predict(X_val_merged)\n",
    "\n",
    "print(classification_report(y_val, knn_pred))\n",
    "print(\"Confusion Matrix:\")\n",
    "print(confusion_matrix(y_val, knn_pred))\n",
    "\n",
    "# Calculate F1 score on the validation set\n",
    "f1 = f1_score(y_val, knn_pred, average='weighted')\n",
    "print(\"F1 score on validation set:\", f1)"
   ]
  },
  {
   "cell_type": "markdown",
   "id": "6560e72a-cbdf-4a1f-bf93-4deb3cc4e538",
   "metadata": {},
   "source": [
    "### MLP"
   ]
  },
  {
   "cell_type": "code",
   "execution_count": null,
   "id": "ee9646f9-9885-4e72-82a1-5e3da5172c44",
   "metadata": {},
   "outputs": [],
   "source": []
  },
  {
   "cell_type": "code",
   "execution_count": null,
   "id": "2c782299-010b-4465-999f-bdb23ac75a98",
   "metadata": {},
   "outputs": [],
   "source": []
  },
  {
   "cell_type": "code",
   "execution_count": null,
   "id": "340d414a-c632-4984-9096-f15eb21e764e",
   "metadata": {},
   "outputs": [],
   "source": []
  },
  {
   "cell_type": "code",
   "execution_count": null,
   "id": "892f171b-d7b8-4bda-a675-d4b60230c4aa",
   "metadata": {},
   "outputs": [],
   "source": []
  },
  {
   "cell_type": "code",
   "execution_count": null,
   "id": "c8a41ba5-54e2-46ae-a80d-bd9f4f4bb82f",
   "metadata": {},
   "outputs": [],
   "source": []
  },
  {
   "cell_type": "code",
   "execution_count": null,
   "id": "8f5b86c6-d407-46ec-9f7a-857ac457b6c0",
   "metadata": {},
   "outputs": [],
   "source": []
  },
  {
   "cell_type": "code",
   "execution_count": null,
   "id": "781a1aa4-7587-49e9-a90f-d1e46e794fde",
   "metadata": {},
   "outputs": [],
   "source": []
  },
  {
   "cell_type": "code",
   "execution_count": null,
   "id": "7bf83f3a-6ee5-4403-83e7-a51b883e89e2",
   "metadata": {},
   "outputs": [],
   "source": []
  }
 ],
 "metadata": {
  "kernelspec": {
   "display_name": "Python 3 (ipykernel)",
   "language": "python",
   "name": "python3"
  },
  "language_info": {
   "codemirror_mode": {
    "name": "ipython",
    "version": 3
   },
   "file_extension": ".py",
   "mimetype": "text/x-python",
   "name": "python",
   "nbconvert_exporter": "python",
   "pygments_lexer": "ipython3",
   "version": "3.11.7"
  }
 },
 "nbformat": 4,
 "nbformat_minor": 5
}
